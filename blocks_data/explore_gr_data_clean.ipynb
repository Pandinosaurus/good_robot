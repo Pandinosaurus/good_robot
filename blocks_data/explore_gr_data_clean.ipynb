{
 "cells": [
  {
   "cell_type": "code",
   "execution_count": null,
   "metadata": {},
   "outputs": [],
   "source": [
    "import pathlib \n",
    "import pickle as pkl\n",
    "import sys\n",
    "sys.path.insert(0, \"/home/estengel/real_good_robot\")\n",
    "from annotate_data import get_pairs, annotate_pairs, flip_pair, rotate_pair\n",
    "\n",
    "\n",
    "# data_home=pathlib.Path(\"/srv/local1/estengel/gr_data//2020-06-05-18-28-46_Real-Stack-SPOT-Trial-Reward-Masked-Testing\")\n",
    "# data_home=pathlib.Path(\"/srv/local1/estengel/gr_data/2020-06-07-16-31-33_Real-Stack-Two-Step-Reward-Masked-Testing\")\n",
    "# data_home=pathlib.Path(\"/srv/local1/estengel/gr_data/2020-06-07-18-10-48_Real-Rows-SPOT-Trial-Reward-Masked-Testing\")\n",
    "# data_home=pathlib.Path(\"/srv/local1/estengel/gr_data//2020-06-07-17-19-34_Real-Rows-Two-Step-Reward-Masked-Testing/\")\n",
    "\n",
    "\n",
    "data_home = pathlib.Path(\"/srv/local1/estengel/gr_data_sim/2021-02-13-16-43-06_Sim-Rows-Two-Step-Reward-Masked-Testing-Three-Step-History\")\n",
    "# data_home = pathlib.Path(\"/srv/local1/estengel/gr_data_sim/2021-02-13-16-30-37_Sim-Stack-SPOT-Trial-Reward-Masked-Testing-Three-Step-History/\") "
   ]
  },
  {
   "cell_type": "code",
   "execution_count": null,
   "metadata": {
    "tags": []
   },
   "outputs": [],
   "source": [
    "# pairs_with_actions = get_pairs(data_home, is_sim=True)\n",
    "pairs_with_actions = get_pairs(data_home, is_sim=True, is_row = True)\n",
    "\n",
    "# pairs_with_actions = annotate_pairs(pairs, is_stack=False)\n"
   ]
  },
  {
   "cell_type": "code",
   "execution_count": null,
   "metadata": {},
   "outputs": [],
   "source": [
    "\n",
    "with open(data_home.joinpath(\"with_actions.pkl\"),\"wb\") as f1:\n",
    "    pkl.dump(pairs_with_actions, f1)\n",
    "\n",
    "# with open(data_home.joinpath(\"with_actions.pkl\"), \"rb\") as f1:\n",
    "#     pairs_with_actions = pkl.load(f1)\n"
   ]
  },
  {
   "cell_type": "code",
   "execution_count": null,
   "metadata": {
    "tags": []
   },
   "outputs": [],
   "source": [
    "import numpy as np \n",
    "np.random.seed(12)\n",
    "idxs = np.random.randint(0, len(pairs_with_actions)-1, 100)\n",
    "# idxs = [241, 418, 373, 89, 417, 352]\n",
    "for idx in idxs:\n",
    "    test_p = pairs_with_actions[idx]\n",
    "    test_p.show()\n",
    "    print(idx)\n",
    "    print(test_p.generate())\n",
    "\n",
    "\n",
    "    # next = input(\"next: \")\n",
    "# test_p_1 = flip_pair(test_p, axis=1)\n",
    "# test_p_1.show()\n",
    "# test_p_1.generate()\n",
    "\n",
    "# test_p_2 = flip_pair(test_p, axis=2)\n",
    "# test_p_2.show()\n",
    "# test_p_2.generate()\n",
    "\n",
    "# test_p_3 = flip_pair(test_p, axis=3)\n",
    "# test_p_3.show()\n",
    "# test_p_3.generate()\n",
    "# test_p_4 = flip_pair(test_p, axis=4)\n",
    "# test_p_4.show()\n",
    "# test_p_4.generate()\n"
   ]
  },
  {
   "cell_type": "code",
   "execution_count": null,
   "metadata": {},
   "outputs": [],
   "source": [
    "print(test_p_1.next_image.shape)"
   ]
  },
  {
   "cell_type": "code",
   "execution_count": null,
   "metadata": {},
   "outputs": [],
   "source": []
  },
  {
   "cell_type": "code",
   "execution_count": null,
   "metadata": {},
   "outputs": [],
   "source": []
  },
  {
   "cell_type": "code",
   "execution_count": null,
   "metadata": {},
   "outputs": [],
   "source": []
  },
  {
   "cell_type": "code",
   "execution_count": null,
   "metadata": {},
   "outputs": [],
   "source": []
  }
 ],
 "metadata": {
  "kernelspec": {
   "display_name": "Python 3.6.12 64-bit ('blocks': conda)",
   "language": "python",
   "name": "python361264bitblockscondae1e5e96102154286a7dee4f769994df8"
  },
  "language_info": {
   "codemirror_mode": {
    "name": "ipython",
    "version": 3
   },
   "file_extension": ".py",
   "mimetype": "text/x-python",
   "name": "python",
   "nbconvert_exporter": "python",
   "pygments_lexer": "ipython3",
   "version": "3.6.12-final"
  }
 },
 "nbformat": 4,
 "nbformat_minor": 2
}